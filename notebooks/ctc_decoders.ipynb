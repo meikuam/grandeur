{
 "cells": [
  {
   "cell_type": "code",
   "execution_count": 1,
   "id": "3171387c",
   "metadata": {},
   "outputs": [],
   "source": [
    "import ctc_decoders"
   ]
  },
  {
   "cell_type": "code",
   "execution_count": 2,
   "id": "7a6e75b4",
   "metadata": {},
   "outputs": [
    {
     "ename": "TypeError",
     "evalue": "ctc_beam_search_decoder_batch() missing 4 required positional arguments: 'probs_split', 'vocabulary', 'beam_size', and 'num_processes'",
     "output_type": "error",
     "traceback": [
      "\u001b[0;31m---------------------------------------------------------------------------\u001b[0m",
      "\u001b[0;31mTypeError\u001b[0m                                 Traceback (most recent call last)",
      "Input \u001b[0;32mIn [2]\u001b[0m, in \u001b[0;36m<cell line: 1>\u001b[0;34m()\u001b[0m\n\u001b[0;32m----> 1\u001b[0m \u001b[43mctc_decoders\u001b[49m\u001b[38;5;241;43m.\u001b[39;49m\u001b[43mctc_beam_search_decoder_batch\u001b[49m\u001b[43m(\u001b[49m\u001b[43m)\u001b[49m\n",
      "\u001b[0;31mTypeError\u001b[0m: ctc_beam_search_decoder_batch() missing 4 required positional arguments: 'probs_split', 'vocabulary', 'beam_size', and 'num_processes'"
     ]
    }
   ],
   "source": [
    "ctc_decoders.ctc_beam_search_decoder_batch()"
   ]
  },
  {
   "cell_type": "code",
   "execution_count": null,
   "id": "6489efb3",
   "metadata": {},
   "outputs": [],
   "source": []
  }
 ],
 "metadata": {
  "kernelspec": {
   "display_name": "Python 3 (ipykernel)",
   "language": "python",
   "name": "python3"
  },
  "language_info": {
   "codemirror_mode": {
    "name": "ipython",
    "version": 3
   },
   "file_extension": ".py",
   "mimetype": "text/x-python",
   "name": "python",
   "nbconvert_exporter": "python",
   "pygments_lexer": "ipython3",
   "version": "3.10.4"
  }
 },
 "nbformat": 4,
 "nbformat_minor": 5
}
