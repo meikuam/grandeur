{
 "cells": [
  {
   "cell_type": "code",
   "execution_count": 1,
   "id": "ded2d913",
   "metadata": {},
   "outputs": [],
   "source": [
    "import sys\n",
    "sys.path.append(\"..\")"
   ]
  },
  {
   "cell_type": "code",
   "execution_count": 2,
   "id": "0064d671",
   "metadata": {},
   "outputs": [],
   "source": [
    "\n",
    "\n",
    "from pathlib import Path\n",
    "\n",
    "import torchaudio\n",
    "from src.utils import project_root\n"
   ]
  },
  {
   "cell_type": "code",
   "execution_count": 9,
   "id": "20adcb56",
   "metadata": {},
   "outputs": [],
   "source": [
    "path = project_root()/\"data/free_spoken_digits/free-spoken-digit-dataset-master\""
   ]
  },
  {
   "cell_type": "code",
   "execution_count": 10,
   "id": "bf409e3f",
   "metadata": {},
   "outputs": [
    {
     "name": "stdout",
     "output_type": "stream",
     "text": [
      "README.md    acquire_data  pip_requirements.txt  utils\r\n",
      "__init__.py  metadata.py   recordings\r\n"
     ]
    }
   ],
   "source": [
    "!ls ../data/free_spoken_digits/free-spoken-digit-dataset-master"
   ]
  },
  {
   "cell_type": "code",
   "execution_count": null,
   "id": "757e6607",
   "metadata": {},
   "outputs": [],
   "source": [
    "../data/free_spoken_digits/free-spoken-digit-dataset-master"
   ]
  },
  {
   "cell_type": "code",
   "execution_count": 10,
   "id": "6354ce7f",
   "metadata": {},
   "outputs": [],
   "source": [
    "data_path = Path(path) / \"recordings\""
   ]
  },
  {
   "cell_type": "code",
   "execution_count": 11,
   "id": "3087bbf9",
   "metadata": {},
   "outputs": [],
   "source": [
    "dataset = list(data_path.glob('**/*.wav'))"
   ]
  },
  {
   "cell_type": "code",
   "execution_count": 27,
   "id": "b05f2f7b",
   "metadata": {},
   "outputs": [
    {
     "data": {
      "text/plain": [
       "'0'"
      ]
     },
     "execution_count": 27,
     "metadata": {},
     "output_type": "execute_result"
    }
   ],
   "source": [
    "dataset[0].stem.split(\"_\")[0]"
   ]
  },
  {
   "cell_type": "code",
   "execution_count": 13,
   "id": "868c9077",
   "metadata": {},
   "outputs": [],
   "source": [
    "wav, sr = torchaudio.load(dataset[0])"
   ]
  },
  {
   "cell_type": "code",
   "execution_count": 16,
   "id": "b1f71e70",
   "metadata": {},
   "outputs": [],
   "source": [
    "import torch"
   ]
  },
  {
   "cell_type": "code",
   "execution_count": 17,
   "id": "d4c5fbb7",
   "metadata": {},
   "outputs": [
    {
     "data": {
      "text/plain": [
       "tensor([[0., 0., 0.]])"
      ]
     },
     "execution_count": 17,
     "metadata": {},
     "output_type": "execute_result"
    }
   ],
   "source": [
    "torch.zeros(1,3)"
   ]
  },
  {
   "cell_type": "code",
   "execution_count": 3,
   "id": "e0a01e7a",
   "metadata": {},
   "outputs": [],
   "source": [
    "\n",
    "from src.data.dataset import FreeSpokenDigits"
   ]
  },
  {
   "cell_type": "code",
   "execution_count": 4,
   "id": "d211f447",
   "metadata": {},
   "outputs": [],
   "source": [
    "dataset = FreeSpokenDigits(\n",
    "    project_root()/\"data/free_spoken_digits/free-spoken-digit-dataset-master\"\n",
    ")"
   ]
  },
  {
   "cell_type": "code",
   "execution_count": 6,
   "id": "2a8d4154",
   "metadata": {},
   "outputs": [],
   "source": [
    "wav, label = dataset[0]"
   ]
  },
  {
   "cell_type": "code",
   "execution_count": 18,
   "id": "cc6958e1",
   "metadata": {},
   "outputs": [],
   "source": [
    "!CUDA_LAUNCH_BLOCKING=1"
   ]
  },
  {
   "cell_type": "code",
   "execution_count": null,
   "id": "60ea19d9",
   "metadata": {},
   "outputs": [],
   "source": []
  }
 ],
 "metadata": {
  "kernelspec": {
   "display_name": "Python 3 (ipykernel)",
   "language": "python",
   "name": "python3"
  },
  "language_info": {
   "codemirror_mode": {
    "name": "ipython",
    "version": 3
   },
   "file_extension": ".py",
   "mimetype": "text/x-python",
   "name": "python",
   "nbconvert_exporter": "python",
   "pygments_lexer": "ipython3",
   "version": "3.10.4"
  }
 },
 "nbformat": 4,
 "nbformat_minor": 5
}
