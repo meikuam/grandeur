{
 "cells": [
  {
   "cell_type": "markdown",
   "id": "6f57d839",
   "metadata": {},
   "source": [
    "https://hydra.cc/docs/tutorials/structured_config/config_groups/"
   ]
  },
  {
   "cell_type": "markdown",
   "id": "4f0e174c",
   "metadata": {},
   "source": [
    "\n",
    "```bash\n",
    "pip install hydra-core\n",
    "```"
   ]
  },
  {
   "cell_type": "code",
   "execution_count": 3,
   "id": "d583dc7e",
   "metadata": {},
   "outputs": [],
   "source": [
    "import torch\n",
    "import hydra"
   ]
  },
  {
   "cell_type": "code",
   "execution_count": 19,
   "id": "7bad2b67",
   "metadata": {},
   "outputs": [
    {
     "name": "stdout",
     "output_type": "stream",
     "text": [
      "\r\n",
      "model:\r\n",
      "  block_1:\r\n",
      "    _target_: torch.nn.Linear\r\n",
      "    in_features: 10\r\n",
      "    out_features: 10\r\n"
     ]
    }
   ],
   "source": [
    "!cat ../hydra_conf/model.yaml"
   ]
  },
  {
   "cell_type": "code",
   "execution_count": 17,
   "id": "09d45112",
   "metadata": {},
   "outputs": [
    {
     "name": "stderr",
     "output_type": "stream",
     "text": [
      "/tmp/ipykernel_23/1483864771.py:1: UserWarning: \n",
      "The version_base parameter is not specified.\n",
      "Please specify a compatability version level, or None.\n",
      "Will assume defaults for version 1.1\n",
      "  with hydra.initialize(\"../hydra_conf\"):\n"
     ]
    }
   ],
   "source": [
    "with hydra.initialize(\"../hydra_conf\"):\n",
    "    model_config = hydra.compose(\"model\")\n",
    "    model_config_with_instances = hydra.utils.instantiate(model_config)"
   ]
  },
  {
   "cell_type": "code",
   "execution_count": 20,
   "id": "0cae5bed",
   "metadata": {},
   "outputs": [
    {
     "data": {
      "text/plain": [
       "tensor([[-0.1090,  0.1248, -0.3118,  0.2533,  0.1381, -0.2653,  0.9851, -0.3502,\n",
       "          0.7917,  0.0679]], grad_fn=<AddmmBackward0>)"
      ]
     },
     "execution_count": 20,
     "metadata": {},
     "output_type": "execute_result"
    }
   ],
   "source": [
    "y = model_config_with_instances.model.block_1(torch.randn([1,10]))\n",
    "y"
   ]
  },
  {
   "cell_type": "code",
   "execution_count": null,
   "id": "b494c980",
   "metadata": {},
   "outputs": [],
   "source": []
  }
 ],
 "metadata": {
  "kernelspec": {
   "display_name": "Python 3 (ipykernel)",
   "language": "python",
   "name": "python3"
  },
  "language_info": {
   "codemirror_mode": {
    "name": "ipython",
    "version": 3
   },
   "file_extension": ".py",
   "mimetype": "text/x-python",
   "name": "python",
   "nbconvert_exporter": "python",
   "pygments_lexer": "ipython3",
   "version": "3.10.4"
  }
 },
 "nbformat": 4,
 "nbformat_minor": 5
}
